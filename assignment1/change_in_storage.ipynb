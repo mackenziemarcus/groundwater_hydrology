{
  "nbformat": 4,
  "nbformat_minor": 0,
  "metadata": {
    "colab": {
      "name": "change_in_storage.ipynb",
      "provenance": [],
      "authorship_tag": "ABX9TyOCRj7fzdF7qmXS14ffUa1W",
      "include_colab_link": true
    },
    "kernelspec": {
      "name": "python3",
      "display_name": "Python 3"
    },
    "language_info": {
      "name": "python"
    }
  },
  "cells": [
    {
      "cell_type": "markdown",
      "metadata": {
        "id": "view-in-github",
        "colab_type": "text"
      },
      "source": [
        "<a href=\"https://colab.research.google.com/github/rg-smith/groundwater_hydrology/blob/main/assignment1/change_in_storage.ipynb\" target=\"_parent\"><img src=\"https://colab.research.google.com/assets/colab-badge.svg\" alt=\"Open In Colab\"/></a>"
      ]
    },
    {
      "cell_type": "markdown",
      "metadata": {
        "id": "6615M71likcA"
      },
      "source": [
        "### Assignment 1: getting different components of the water budget\n",
        "\n",
        "This python workbook can be 'clicked through'. Just upload your watershed files into the main files tab, then click run on each code block."
      ]
    },
    {
      "cell_type": "code",
      "metadata": {
        "id": "JS_go2y2lnbj"
      },
      "source": [
        "pip install geopandas geemap"
      ],
      "execution_count": null,
      "outputs": []
    },
    {
      "cell_type": "code",
      "source": [
        "pip install pycrs"
      ],
      "metadata": {
        "id": "d42f1RRBx4l5"
      },
      "execution_count": null,
      "outputs": []
    },
    {
      "cell_type": "code",
      "metadata": {
        "id": "GQzx_BlImXbG"
      },
      "source": [
        "import ee\n",
        "import numpy as np\n",
        "import pandas as pd\n",
        "import matplotlib.pyplot as plt\n",
        "import geopandas as gpd\n",
        "import requests\n",
        "from tqdm import tqdm\n",
        "import zipfile\n",
        "import os\n",
        "import pandas as pd\n",
        "from glob import glob\n",
        "import geemap\n",
        "import pycrs\n",
        "\n",
        "if not ee.data._credentials:\n",
        "    ee.Authenticate()\n",
        "    ee.Initialize()"
      ],
      "execution_count": 8,
      "outputs": []
    },
    {
      "cell_type": "code",
      "metadata": {
        "id": "GZrWPT00muOp"
      },
      "source": [
        "def create_reduce_region_function(geometry,\n",
        "                                  reducer=ee.Reducer.mean(),\n",
        "                                  scale=1000,\n",
        "                                  crs='EPSG:4326',\n",
        "                                  bestEffort=True,\n",
        "                                  maxPixels=1e13,\n",
        "                                  tileScale=4):\n",
        "  \"\"\"Creates a region reduction function.\n",
        "\n",
        "  Creates a region reduction function intended to be used as the input function\n",
        "  to ee.ImageCollection.map() for reducing pixels intersecting a provided region\n",
        "  to a statistic for each image in a collection. See ee.Image.reduceRegion()\n",
        "  documentation for more details.\n",
        "\n",
        "  Args:\n",
        "    geometry:\n",
        "      An ee.Geometry that defines the region over which to reduce data.\n",
        "    reducer:\n",
        "      Optional; An ee.Reducer that defines the reduction method.\n",
        "    scale:\n",
        "      Optional; A number that defines the nominal scale in meters of the\n",
        "      projection to work in.\n",
        "    crs:\n",
        "      Optional; An ee.Projection or EPSG string ('EPSG:5070') that defines\n",
        "      the projection to work in.\n",
        "    bestEffort:\n",
        "      Optional; A Boolean indicator for whether to use a larger scale if the\n",
        "      geometry contains too many pixels at the given scale for the operation\n",
        "      to succeed.\n",
        "    maxPixels:\n",
        "      Optional; A number specifying the maximum number of pixels to reduce.\n",
        "    tileScale:\n",
        "      Optional; A number representing the scaling factor used to reduce\n",
        "      aggregation tile size; using a larger tileScale (e.g. 2 or 4) may enable\n",
        "      computations that run out of memory with the default.\n",
        "\n",
        "  Returns:\n",
        "    A function that accepts an ee.Image and reduces it by region, according to\n",
        "    the provided arguments.\n",
        "  \"\"\"\n",
        "\n",
        "  def reduce_region_function(img):\n",
        "    \"\"\"Applies the ee.Image.reduceRegion() method.\n",
        "\n",
        "    Args:\n",
        "      img:\n",
        "        An ee.Image to reduce to a statistic by region.\n",
        "\n",
        "    Returns:\n",
        "      An ee.Feature that contains properties representing the image region\n",
        "      reduction results per band and the image timestamp formatted as\n",
        "      milliseconds from Unix epoch (included to enable time series plotting).\n",
        "    \"\"\"\n",
        "\n",
        "    stat = img.reduceRegion(\n",
        "        reducer=reducer,\n",
        "        geometry=geometry,\n",
        "        scale=scale,\n",
        "        crs=crs,\n",
        "        bestEffort=bestEffort,\n",
        "        maxPixels=maxPixels,\n",
        "        tileScale=tileScale)\n",
        "\n",
        "    return ee.Feature(geometry, stat).set({'millis': img.date().millis()})\n",
        "  return reduce_region_function\n",
        "\n",
        "def gee_zonal_mean_img_coll(imageCollection,geometry):\n",
        "    reduce_iC = create_reduce_region_function(geometry = geometry)\n",
        "    stat_fc = ee.FeatureCollection(imageCollection.map(reduce_iC)).filter(ee.Filter.notNull(imageCollection.first().bandNames()))\n",
        "    fc_dict = fc_to_dict(stat_fc).getInfo()\n",
        "\n",
        "    df = pd.DataFrame(fc_dict)\n",
        "    df['date'] = pd.to_datetime(df['millis'],unit='ms')\n",
        "    return(df)\n",
        "\n",
        "def gee_zonal_mean(date1,date2,geometry,collection_name,band_name):\n",
        "     imcol = ee.ImageCollection(collection_name).select(band_name).filterDate(date1,date2)\n",
        "     df = gee_zonal_mean_img_coll(imcol,geometry)\n",
        "     return(df)\n",
        "\n",
        "\n",
        "# Define a function to transfer feature properties to a dictionary.\n",
        "def fc_to_dict(fc):\n",
        "  prop_names = fc.first().propertyNames()\n",
        "  prop_lists = fc.reduceColumns(\n",
        "      reducer=ee.Reducer.toList().repeat(prop_names.size()),\n",
        "      selectors=prop_names).get('list')\n",
        "\n",
        "  return ee.Dictionary.fromLists(prop_names, prop_lists)\n",
        "\n",
        "def ee_imgcoll_to_df_point(imagecollection, lat,lon):\n",
        "    \"\"\"Transforms client-side ee.Image.getRegion array to pandas.DataFrame.\"\"\"\n",
        "    poi = ee.Geometry.Point(lon, lat)\n",
        "    arr = imagecollection.getRegion(poi,1000).getInfo()\n",
        "\n",
        "    list_of_bands = imagecollection.first().bandNames().getInfo()\n",
        "\n",
        "    df = pd.DataFrame(arr)\n",
        "\n",
        "    # Rearrange the header.\n",
        "    headers = df.iloc[0]\n",
        "    df = pd.DataFrame(df.values[1:], columns=headers)\n",
        "\n",
        "    # Remove rows without data inside.\n",
        "    df = df[['longitude', 'latitude', 'time', *list_of_bands]].dropna()\n",
        "\n",
        "    # Convert the data to numeric values.\n",
        "    for band in list_of_bands:\n",
        "        df[band] = pd.to_numeric(df[band], errors='coerce')\n",
        "\n",
        "    # Convert the time field into a datetime.\n",
        "    df['datetime'] = pd.to_datetime(df['time'], unit='ms')\n",
        "\n",
        "    # Keep the columns of interest.\n",
        "    df = df[['time','datetime',  *list_of_bands]]\n",
        "\n",
        "    return df\n",
        "\n",
        "# to get the link to download an earth engine image\n",
        "def getLink(image,fname,aoi):\n",
        "  link = image.getDownloadURL({\n",
        "    'scale': 1000,\n",
        "    'crs': 'EPSG:4326',\n",
        "    'fileFormat': 'GeoTIFF',\n",
        "    'region': aoi,\n",
        "    'name': fname})\n",
        "  # print(link)\n",
        "  return(link)\n",
        "\n",
        "# create an earth engine geometry polygon\n",
        "def addGeometry(min_lon,max_lon,min_lat,max_lat):\n",
        "  geom = ee.Geometry.Polygon(\n",
        "      [[[min_lon, max_lat],\n",
        "        [min_lon, min_lat],\n",
        "        [max_lon, min_lat],\n",
        "        [max_lon, max_lat]]])\n",
        "  return(geom)\n",
        "\n",
        "def get_imgcollection(date1,date2,geometry,collection_name,band_name,function='mean'):\n",
        "  collection = ee.ImageCollection(collection_name)\n",
        "  if function=='mean':\n",
        "      img = collection.filterDate(date1,date2).select(band_name).mean().clip(geometry)\n",
        "  if function=='sum':\n",
        "      img = collection.filterDate(date1,date2).select(band_name).sum().clip(geometry)\n",
        "  range = img.reduceRegion(ee.Reducer.percentile([1, 99]),scale=10000)\n",
        "  vals = range.getInfo()\n",
        "  min=list(vals.items())[0][1]\n",
        "  max=list(vals.items())[1][1]\n",
        "  visParams = {'min': min, 'max': max, 'palette': ['0000FF', 'FFFFFF','FF0000']}\n",
        "  return(img,visParams)\n",
        "\n",
        "def download_img(img,geom,fname):\n",
        "    linkname = getLink(img,fname,geom)\n",
        "    response = requests.get(linkname, stream=True)\n",
        "    zipped = fname+'.zip'\n",
        "    with open(zipped, \"wb\") as handle:\n",
        "        for data in tqdm(response.iter_content()):\n",
        "            handle.write(data)\n",
        "\n",
        "    with zipfile.ZipFile(zipped, 'r') as zip_ref:\n",
        "        zip_ref.extractall('')\n",
        "    os.remove(zipped)\n",
        "\n",
        "\n",
        "def aggregate_by_water_year(df,date_col,agg_column,agg_fun='sum'):\n",
        "    df['water_year'] = df[date_col].dt.year.where(df[date_col].dt.month < 10, df[date_col].dt.year + 1)\n",
        "    df_agg = df.groupby('water_year').agg({agg_column:[agg_fun]})\n",
        "    return(df_agg)"
      ],
      "execution_count": 3,
      "outputs": []
    },
    {
      "cell_type": "markdown",
      "metadata": {
        "id": "XBzcpmpJm7Oa"
      },
      "source": [
        "First, upload your watershed shapefile to the files directory. Be sure to include ALL FILES WITH THE SAME STEM (.shp, .dbf, .prj, .shx, etc). Put it in the main directory."
      ]
    },
    {
      "cell_type": "code",
      "metadata": {
        "id": "ayTiQx4hm4qC"
      },
      "source": [
        "start='2015-10-01'\n",
        "end='2016-09-30'\n",
        "path_to_watershed='globalwatershed.shp'"
      ],
      "execution_count": 4,
      "outputs": []
    },
    {
      "cell_type": "code",
      "metadata": {
        "id": "2mjfMaRyndjV"
      },
      "source": [
        "# upload watershed to GEE----------------------------\n",
        "watershed_gee = geemap.shp_to_ee(path_to_watershed)"
      ],
      "execution_count": 9,
      "outputs": []
    },
    {
      "cell_type": "code",
      "source": [
        "# get watershed area (sq km)\n",
        "wshed = gpd.read_file(path_to_watershed)\n",
        "wshed_proj = wshed.to_crs(epsg = '2163')\n",
        "area = wshed_proj.geometry.area/1e6\n",
        "print('area of watershed is '+str(int(area))+' square km')\n",
        "\n",
        "wshed_proj.plot()"
      ],
      "metadata": {
        "colab": {
          "base_uri": "https://localhost:8080/",
          "height": 465
        },
        "id": "tO4S-tMTe4YN",
        "outputId": "0fa68785-b975-4627-9cfe-2b9fbf7bbdc1"
      },
      "execution_count": 13,
      "outputs": [
        {
          "output_type": "stream",
          "name": "stdout",
          "text": [
            "area of watershed is 2917 square km\n"
          ]
        },
        {
          "output_type": "execute_result",
          "data": {
            "text/plain": [
              "<Axes: >"
            ]
          },
          "metadata": {},
          "execution_count": 13
        },
        {
          "output_type": "display_data",
          "data": {
            "text/plain": [
              "<Figure size 640x480 with 1 Axes>"
            ],
            "image/png": "[encoded data removed]"
          },
          "metadata": {}
        }
      ]
    },
    {
      "cell_type": "code",
      "metadata": {
        "id": "MI660PDinf-E",
        "colab": {
          "base_uri": "https://localhost:8080/"
        },
        "outputId": "d122a3ab-6ba3-4fce-ba29-10560a2d02f8"
      },
      "source": [
        "# get data frames that are spatially reduced\n",
        "df_precip = gee_zonal_mean(start,end,watershed_gee.geometry(),'OREGONSTATE/PRISM/AN81m','ppt')\n",
        "df_precip = df_precip[['ppt','date']]\n",
        "df_precip.to_csv('precipitation.csv')\n",
        "\n",
        "print('area averaged annual precip in watershed is '+str(int(np.sum(df_precip['ppt'])))+ ' mm')\n",
        "\n",
        "df_ET = gee_zonal_mean(start,end,watershed_gee.geometry(),'MODIS/006/MOD16A2','ET')\n",
        "df_ET = df_ET[['ET','date']]\n",
        "df_ET['ET'] = df_ET['ET']/10\n",
        "df_ET.to_csv('ET.csv')\n",
        "\n",
        "print('area averaged annual ET in watershed is '+str(int(np.sum(df_ET['ET'])))+ ' mm')\n",
        "\n",
        "df_sm = gee_zonal_mean(start,end,watershed_gee.geometry(),'NASA_USDA/HSL/SMAP10KM_soil_moisture','susm')\n",
        "\n",
        "df_sm = df_sm[['susm','date']]\n",
        "df_sm.to_csv('sm.csv')\n",
        "sm = np.array(df_sm['susm'])\n",
        "\n",
        "print('area averaged change in subsurface soil water storage is '+str(int(sm[-1]-sm[0]))+ ' mm')\n"
      ],
      "execution_count": 11,
      "outputs": [
        {
          "output_type": "stream",
          "name": "stdout",
          "text": [
            "area averaged annual precip in watershed is 543 mm\n",
            "area averaged annual ET in watershed is 374 mm\n",
            "area averaged change in subsurface soil water storage is -5 mm\n"
          ]
        }
      ]
    }
  ]
}